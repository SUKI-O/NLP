{
 "cells": [
  {
   "cell_type": "code",
   "execution_count": 4,
   "metadata": {},
   "outputs": [
    {
     "name": "stderr",
     "output_type": "stream",
     "text": [
      "Downloading: 100%|██████████| 1.20k/1.20k [00:00<00:00, 602kB/s]\n",
      "Downloading: 100%|██████████| 242M/242M [11:13<00:00, 360kB/s]  \n",
      "Downloading: 100%|██████████| 792k/792k [00:02<00:00, 368kB/s]  \n",
      "Downloading: 100%|██████████| 1.39M/1.39M [00:06<00:00, 223kB/s] \n"
     ]
    }
   ],
   "source": [
    "from transformers import AutoModelForSeq2SeqLM, AutoTokenizer\n",
    "\n",
    "model = AutoModelForSeq2SeqLM.from_pretrained(\"t5-small\")\n",
    "tokenizer = AutoTokenizer.from_pretrained(\"t5-small\")"
   ]
  },
  {
   "cell_type": "code",
   "execution_count": 2,
   "metadata": {},
   "outputs": [],
   "source": [
    "ARTICLE = \"\"\"MEMORANDUM TO: The Joint Committee\n",
    "SUBJECT: Use of Maneuver Areas on the Mainland of Japan for Conducting Artillery Training\n",
    "1. References:\n",
    "a. The SAC0 Final Report, 2 December 1996.\n",
    "b. Article 111of the Agreement between Japan and the United States of America Concerning New Special Measures Relating to Article XXIV of the Agreement Under Article V1 of the Treaty of Mutual Cooperation and Security between Japan and the United States of America, Regarding Facilities and Areas and the Status of United States Armed forces in Japan signed on 11 September 2000.\n",
    "c. Article V of the Agreement above.\n",
    "d. Memorandum for the Joint Committee, approved on 29 August 1996, subject: Recommendation of the Ad Hoc Working Group on Artillery Training Relocation.\n",
    "e. Memorandum for the Joint Committee, approved on 16 June 1997, subject: Relocation of Artillery Training Presently Conducted Over Highway 104 at Camp Hansen, FAC 6011.\n",
    "f. Memorandum for the Joint Committee, approved on 16 June 1997, subject: Categories and Execution of Training Relocation Cost Incident to Relocating Artillery Training Currently Conducted at Camp Hansen, FAC 6011.\n",
    "g. Memorandum for the Joint Committee, 20 April 2005, subject: Use of Maneuver Areas on the Mainland of Japan for Conducting Artillery Training.\n",
    "2. The United States Government (USG) acknowledges the Government of Japan (GOJ) request in reference g, to implement the training based on reference a, at maneuver areas of the Japan Self Defense Forces on the mainland of Japan as mentioned in reference d, in and after JFY 2005, in place of Camp Hansen, FAC 6011.\n",
    "3. The USG requests the GOJ to bear all of the additional expenditures incident to the above mentioned change, in accordance with paragraph 3 of reference f, and to provide notification in accordance with reference c, after the required budget for JFY 2005 has been approved by the Japanese Diet.\n",
    "4. It is the understanding of the USG that if the required budget is not approved be the Japanese Diet regarding additional expenditures incident to the change mentioned in paragraph 2 above in and after JFY 2005, the artillery training will resume under arrangements and at the location specified in MEMO No. 87 1 approved by the Joint Committee, 15 May 1972.\n",
    "T. R. LARSEN Major General, US Marine Corps US Representative, Joint Committee\n",
    "912JC Incl 14 16 J u n 05\"\"\""
   ]
  },
  {
   "cell_type": "code",
   "execution_count": 10,
   "metadata": {},
   "outputs": [
    {
     "name": "stdout",
     "output_type": "stream",
     "text": [
      "<pad> Dimensionality reduction involves mapping a set of high dimensional input points onto a low dimensional manifold. most existing techniques suffer from two drawbacks. most of them depend on a meaningful and computable distance metric in input space.</s>\n"
     ]
    }
   ],
   "source": [
    "# T5 uses a max_length of 512 so we cut the article to 512 tokens.\n",
    "inputs = tokenizer(\"summarize: \" + ARTICLE, return_tensors=\"pt\", max_length=512, truncation=True)\n",
    "outputs = model.generate(\n",
    "    inputs[\"input_ids\"], max_length=250, min_length=40, length_penalty=1.0, num_beams=4, early_stopping=True\n",
    ")\n",
    "\n",
    "print(tokenizer.decode(outputs[0]))"
   ]
  },
  {
   "cell_type": "code",
   "execution_count": null,
   "metadata": {},
   "outputs": [],
   "source": []
  }
 ],
 "metadata": {
  "interpreter": {
   "hash": "2f7cd0ae02efc2e2587421e67cfa303a872017881dbf2df1d0157aa85cd573f1"
  },
  "kernelspec": {
   "display_name": "Python 3.8.5 64-bit",
   "language": "python",
   "name": "python3"
  },
  "language_info": {
   "codemirror_mode": {
    "name": "ipython",
    "version": 3
   },
   "file_extension": ".py",
   "mimetype": "text/x-python",
   "name": "python",
   "nbconvert_exporter": "python",
   "pygments_lexer": "ipython3",
   "version": "3.8.5"
  },
  "orig_nbformat": 4
 },
 "nbformat": 4,
 "nbformat_minor": 2
}
