{
 "cells": [
  {
   "cell_type": "code",
   "execution_count": 1,
   "source": [
    "import speech_recognition as sr\n",
    "def speech_to_text(self):\n",
    "    recognizer = sr.Recognizer()\n",
    "    with sr.Microphone() as mic:\n",
    "         recognizer.adjust_for_ambient_noise(mic, duration=1)            \n",
    "         print(\"listening...\")\n",
    "         audio = recognizer.listen(mic)\n",
    "    try:\n",
    "         self.text = recognizer.recognize_google(audio)\n",
    "         print(\"me --> \", self.text)\n",
    "    except:\n",
    "         print(\"me -->  ERROR\")"
   ],
   "outputs": [],
   "metadata": {}
  },
  {
   "cell_type": "code",
   "execution_count": 3,
   "source": [
    "from chatbot0 import ChatBot\n",
    "from chatbot0 import myDict\n"
   ],
   "outputs": [],
   "metadata": {}
  },
  {
   "cell_type": "code",
   "execution_count": 4,
   "source": [
    "chatbot = ChatBot(name=\"suki\")\n"
   ],
   "outputs": [
    {
     "output_type": "stream",
     "name": "stdout",
     "text": [
      "--- starting up suki ---\n"
     ]
    }
   ],
   "metadata": {}
  },
  {
   "cell_type": "code",
   "execution_count": 16,
   "source": [
    "chatbot.myDict.personal_data('myDict.txt')"
   ],
   "outputs": [
    {
     "output_type": "execute_result",
     "data": {
      "text/plain": [
       "{\"'name'\": \" 'Suki'\",\n",
       " \"'last_name'\": \" 'Ogihara'\",\n",
       " \"'age'\": \" '38'\",\n",
       " \"'birthday'\": \" '1983/08/02'\",\n",
       " \"'country'\": \" 'United States'\",\n",
       " \"'city'\": \" 'Philadelphia'\",\n",
       " \"'email'\": \" 'ituki82@gmail.com'\",\n",
       " \"'US phone'\": \" '+1 267-566-8610'\",\n",
       " \"'Japanese phone'\": \" '+81 70-4765-8610'\",\n",
       " \"'gmail'\": \" 'ituki82'\",\n",
       " \"'github'\": \" 'suki-o'\",\n",
       " \"'husband'\": \" 'Douglas'\",\n",
       " \"'grandma'\": \" 'Yasuko'\"}"
      ]
     },
     "metadata": {},
     "execution_count": 16
    }
   ],
   "metadata": {}
  },
  {
   "cell_type": "code",
   "execution_count": null,
   "source": [],
   "outputs": [],
   "metadata": {}
  }
 ],
 "metadata": {
  "orig_nbformat": 4,
  "language_info": {
   "name": "python",
   "version": "3.9.12",
   "mimetype": "text/x-python",
   "codemirror_mode": {
    "name": "ipython",
    "version": 3
   },
   "pygments_lexer": "ipython3",
   "nbconvert_exporter": "python",
   "file_extension": ".py"
  },
  "kernelspec": {
   "name": "python3",
   "display_name": "Python 3.9.12 64-bit"
  },
  "interpreter": {
   "hash": "4cd7ab41f5fca4b9b44701077e38c5ffd31fe66a6cab21e0214b68d958d0e462"
  }
 },
 "nbformat": 4,
 "nbformat_minor": 2
}