{
 "cells": [
  {
   "cell_type": "code",
   "execution_count": 7,
   "source": [
    "from flair.data import Sentence\n",
    "from flair.models import SequenceTagger\n",
    "\n",
    "# load tagger\n",
    "tagger = SequenceTagger.load(\"flair/ner-english\")\n",
    "\n",
    "# make example sentence\n",
    "sentence = Sentence(\"RAs stated in the above reference, the United States Government (USG) and the Government of Japan (GOJ) confirmed their intention to continue conducting consultations at the Labor Subcommittee in accordance with the following procedures; “In the Labor Subcommittee, the USG and the GOJ will continue to discuss iments to the MLC, MC, and IHA with regard to matters on disagreement provided in paragraph 4b of the Labor Subcommittee Memorandum submitted to the Joint Committee today. The Labor Subcommittee will report to the Joint Committee periodically on any of the items on which an agreement is reached and will also report the progress of the discussions once every six months.”\")\n",
    "\n",
    "# predict NER tags\n",
    "tagger.predict(sentence)\n",
    "\n",
    "# print sentence\n",
    "print(sentence)\n",
    "\n",
    "# print predicted NER spans\n",
    "print('The following NER tags are found:')\n",
    "# iterate over entities and print\n",
    "for entity in sentence.get_spans('ner'):\n",
    "    print(entity)"
   ],
   "outputs": [
    {
     "output_type": "stream",
     "name": "stdout",
     "text": [
      "2022-04-24 13:53:58,564 loading file /Users/itsukiogihara/.flair/models/ner-english/4f4cdab26f24cb98b732b389e6cebc646c36f54cfd6e0b7d3b90b25656e4262f.8baa8ae8795f4df80b28e7f7b61d788ecbb057d1dc85aacb316f1bd02837a4a4\n",
      "2022-04-24 13:54:02,088 SequenceTagger predicts: Dictionary with 20 tags: <unk>, O, S-ORG, S-MISC, B-PER, E-PER, S-LOC, B-ORG, E-ORG, I-PER, S-PER, B-MISC, I-MISC, E-MISC, I-ORG, B-LOC, E-LOC, I-LOC, <START>, <STOP>\n",
      "Sentence: \"RAs stated in the above reference , the United States Government ( USG ) and the Government of Japan ( GOJ ) confirmed their intention to continue conducting consultations at the Labor Subcommittee in accordance with the following procedures ; “ In the Labor Subcommittee , the USG and the GOJ will continue to discuss iments to the MLC , MC , and IHA with regard to matters on disagreement provided in paragraph 4b of the Labor Subcommittee Memorandum submitted to the Joint Committee today . The Labor Subcommittee will report to the Joint Committee periodically on any of the items on which an agreement is reached and will also report the progress of the discussions once every six months . ”\" → [\"RAs\"/ORG, \"United States Government\"/ORG, \"USG\"/ORG, \"Government of Japan\"/ORG, \"GOJ\"/ORG, \"Labor Subcommittee\"/ORG, \"Labor Subcommittee\"/ORG, \"USG\"/ORG, \"GOJ\"/ORG, \"MLC\"/ORG, \"MC\"/ORG, \"IHA\"/ORG, \"Labor Subcommittee Memorandum\"/MISC, \"Joint Committee\"/ORG, \"Labor Subcommittee\"/ORG, \"Joint Committee\"/ORG]\n",
      "The following NER tags are found:\n",
      "Span[0:1]: \"RAs\" → ORG (0.9364)\n",
      "Span[8:11]: \"United States Government\" → ORG (0.7081)\n",
      "Span[12:13]: \"USG\" → ORG (1.0)\n",
      "Span[16:19]: \"Government of Japan\" → ORG (0.9975)\n",
      "Span[20:21]: \"GOJ\" → ORG (1.0)\n",
      "Span[31:33]: \"Labor Subcommittee\" → ORG (0.8363)\n",
      "Span[43:45]: \"Labor Subcommittee\" → ORG (0.8987)\n",
      "Span[47:48]: \"USG\" → ORG (0.999)\n",
      "Span[50:51]: \"GOJ\" → ORG (0.9981)\n",
      "Span[58:59]: \"MLC\" → ORG (0.9988)\n",
      "Span[60:61]: \"MC\" → ORG (0.9985)\n",
      "Span[63:64]: \"IHA\" → ORG (0.998)\n",
      "Span[76:79]: \"Labor Subcommittee Memorandum\" → MISC (0.6055)\n",
      "Span[82:84]: \"Joint Committee\" → ORG (0.958)\n",
      "Span[87:89]: \"Labor Subcommittee\" → ORG (0.9231)\n",
      "Span[93:95]: \"Joint Committee\" → ORG (0.9477)\n"
     ]
    }
   ],
   "metadata": {}
  },
  {
   "cell_type": "code",
   "execution_count": 23,
   "source": [
    "from flair.models import SequenceTagger\n",
    "\n",
    "pos_tagger = SequenceTagger.load('upos')\n",
    "\n",
    "sentence = Sentence(\"MEMORANDUM FOR: The Joint Committee SUBJECT: Report of the Labor Subcommittee Discussions on Matters Concerning Improvement of the Conditions of Employment and Work for USFJ Employees Locally Employed 1. Reference: Paragraphs 12 and 13 of the Minutes of the 907th Meeting of the Joint Committee, 16 December 2004.\")\n",
    "\n",
    "pos_tagger.predict(sentence)\n",
    "\n",
    "for label in sentence.get_labels('pos'):\n",
    "    print((label.value+ \" \"+label.data_point.text+'\\n'),end='')\n"
   ],
   "outputs": [
    {
     "output_type": "stream",
     "name": "stdout",
     "text": [
      "2022-04-24 15:59:16,153 loading file /Users/itsukiogihara/.flair/models/upos-english/3489359470b8c3b3c6419514a5f1e27ee827089d6a6b345b4fc2cb5f29b70589.15e4b80e0db9ddfa092bb2a03d56050575455bb50729e3c68617a4aa2f7025ec\n",
      "2022-04-24 15:59:19,791 SequenceTagger predicts: Dictionary with 20 tags: <unk>, O, INTJ, PUNCT, VERB, PRON, NOUN, ADV, DET, ADJ, ADP, NUM, PROPN, CCONJ, PART, AUX, X, SYM, <START>, <STOP>\n",
      "NOUN MEMORANDUM\n",
      "ADP FOR\n",
      "PUNCT :\n",
      "DET The\n",
      "PROPN Joint\n",
      "PROPN Committee\n",
      "PROPN SUBJECT\n",
      "PUNCT :\n",
      "NOUN Report\n",
      "ADP of\n",
      "DET the\n",
      "PROPN Labor\n",
      "PROPN Subcommittee\n",
      "NOUN Discussions\n",
      "ADP on\n",
      "NOUN Matters\n",
      "VERB Concerning\n",
      "NOUN Improvement\n",
      "ADP of\n",
      "DET the\n",
      "NOUN Conditions\n",
      "ADP of\n",
      "NOUN Employment\n",
      "CCONJ and\n",
      "NOUN Work\n",
      "ADP for\n",
      "PROPN USFJ\n",
      "NOUN Employees\n",
      "ADV Locally\n",
      "VERB Employed\n",
      "NUM 1\n",
      "PUNCT .\n",
      "NOUN Reference\n",
      "PUNCT :\n",
      "NOUN Paragraphs\n",
      "NUM 12\n",
      "CCONJ and\n",
      "NUM 13\n",
      "ADP of\n",
      "DET the\n",
      "PROPN Minutes\n",
      "ADP of\n",
      "DET the\n",
      "ADJ 907th\n",
      "PROPN Meeting\n",
      "ADP of\n",
      "DET the\n",
      "PROPN Joint\n",
      "PROPN Committee\n",
      "PUNCT ,\n",
      "NUM 16\n",
      "PROPN December\n",
      "NUM 2004\n",
      "PUNCT .\n"
     ]
    }
   ],
   "metadata": {}
  },
  {
   "cell_type": "code",
   "execution_count": 26,
   "source": [
    "sentence = Sentence(\"MEMORANDUM FOR: The Joint Committee SUBJECT: Report of the Labor Subcommittee Discussions on Matters Concerning Improvement of the Conditions of Employment and Work for USFJ Employees Locally Employed 1. Reference: Paragraphs 12 and 13 of the Minutes of the 907th Meeting of the Joint Committee, 16 December 2004.\")\n",
    "\n",
    "tagger.predict(sentence)\n",
    "\n",
    "for label in sentence.get_labels('ner'):\n",
    "    print((label.value+ \" \"+label.data_point.text+'\\n'),end='')"
   ],
   "outputs": [
    {
     "output_type": "stream",
     "name": "stdout",
     "text": [
      "MISC Labor Subcommittee Discussions on Matters Concerning Improvement of the Conditions of Employment and Work for USFJ Employees Locally Employed 1\n",
      "MISC 907th Meeting of the Joint Committee\n"
     ]
    }
   ],
   "metadata": {}
  },
  {
   "cell_type": "code",
   "execution_count": null,
   "source": [],
   "outputs": [],
   "metadata": {}
  }
 ],
 "metadata": {
  "orig_nbformat": 4,
  "language_info": {
   "name": "python",
   "version": "3.9.12",
   "mimetype": "text/x-python",
   "codemirror_mode": {
    "name": "ipython",
    "version": 3
   },
   "pygments_lexer": "ipython3",
   "nbconvert_exporter": "python",
   "file_extension": ".py"
  },
  "kernelspec": {
   "name": "python3",
   "display_name": "Python 3.9.12 64-bit"
  },
  "interpreter": {
   "hash": "aee8b7b246df8f9039afb4144a1f6fd8d2ca17a180786b69acc140d282b71a49"
  }
 },
 "nbformat": 4,
 "nbformat_minor": 2
}