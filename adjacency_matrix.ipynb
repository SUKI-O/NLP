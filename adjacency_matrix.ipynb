{
 "cells": [
  {
   "cell_type": "markdown",
   "metadata": {},
   "source": [
    "# Term-Frequency Graph\n",
    "generate a graph to map the relationships between texts based on the common keywords.\n",
    "-> keywords are extracted with Yake (n=3, N =30) \n",
    "- create a weighted adgencency matrix"
   ]
  },
  {
   "cell_type": "code",
   "execution_count": 28,
   "metadata": {},
   "outputs": [],
   "source": [
    "import os\n",
    "os.chdir('C:\\\\Users\\\\ituki\\\\Documents\\\\Projects\\\\Graph_Vis\\\\data')\n",
    "#os.getcwd()\n",
    "import pickle\n",
    "with open('yake_keywords.pkl', 'rb') as f:\n",
    "    yake_keywords = pickle.load(f)\n",
    "with open('filenames.pkl', 'rb') as f:\n",
    "    filenames = pickle.load(f)"
   ]
  },
  {
   "cell_type": "code",
   "execution_count": 34,
   "metadata": {},
   "outputs": [
    {
     "data": {
      "text/plain": [
       "0.0"
      ]
     },
     "execution_count": 34,
     "metadata": {},
     "output_type": "execute_result"
    }
   ],
   "source": [
    "# matrix to store the adjacency mat\n",
    "import numpy as np \n",
    "adjacency_mat = np.zeros(shape=(len(yake_keywords.keys()), len(yake_keywords.keys())))\n",
    "adjacency_mat[0,0]"
   ]
  },
  {
   "cell_type": "code",
   "execution_count": 29,
   "metadata": {},
   "outputs": [
    {
     "name": "stdout",
     "output_type": "stream",
     "text": [
      "50 {'San', 'applications', 'early', 'important', 'differential', 'Antonio', 'Shair', 'Cauchy', 'dynamics', 'order', 'lead', 'deals', 'Proof', 'elementary', 'general', 'introduction', 'treatment', 'topics', 'Engineering', 'Preface', 'chapter', 'existence', 'Appendix', 'simple', 'understanding', 'finding', 'Ahmad', 'problem', 'Ambrosetti', 'rigorous', 'covered', 'included', 'methods', 'selected', 'technology', 'Edition', 'population', 'addressed', 'linear', 'book', 'Trieste', 'stage', 'boundary', 'qualitative', 'concepts', 'theory', 'exercises', 'students', 'solutions', 'uniqueness'}\n",
      "13 {'methods', 'applications', 'topics', 'important', 'Preface', 'book', 'concepts', 'chapter', 'simple', 'students', 'problem', 'linear', 'general'}\n",
      "4 {'Proof', 'book', 'Preface', 'students'}\n",
      "1 {'problem'}\n",
      "0 set()\n",
      "2 {'applications', 'Preface'}\n",
      "0 set()\n",
      "0 set()\n",
      "0 set()\n",
      "1 {'linear'}\n",
      "0 set()\n",
      "0 set()\n",
      "2 {'problem', 'methods'}\n",
      "2 {'problem', 'order'}\n",
      "1 {'linear'}\n",
      "2 {'problem', 'linear'}\n",
      "0 set()\n",
      "2 {'linear', 'Cauchy'}\n",
      "1 {'book'}\n",
      "4 {'chapter', 'theory', 'book', 'Preface'}\n",
      "3 {'treatment', 'theory', 'concepts'}\n",
      "2 {'theory', 'linear'}\n",
      "4 {'problem', 'book', 'methods', 'finding'}\n",
      "4 {'theory', 'methods', 'important', 'concepts'}\n",
      "1 {'introduction'}\n",
      "0 set()\n",
      "6 {'applications', 'Preface', 'chapter', 'exercises', 'order', 'book'}\n",
      "1 {'Preface'}\n",
      "0 set()\n",
      "2 {'important', 'book'}\n",
      "4 {'problem', 'book', 'simple', 'methods'}\n"
     ]
    }
   ],
   "source": [
    "for i in range(31):\n",
    "    common_kw = set(yake_keywords[0]).intersection(set(yake_keywords[i]))\n",
    "    print(len(common_kw), common_kw)"
   ]
  },
  {
   "cell_type": "code",
   "execution_count": null,
   "metadata": {},
   "outputs": [],
   "source": []
  }
 ],
 "metadata": {
  "interpreter": {
   "hash": "2f7cd0ae02efc2e2587421e67cfa303a872017881dbf2df1d0157aa85cd573f1"
  },
  "kernelspec": {
   "display_name": "Python 3.8.5 64-bit",
   "language": "python",
   "name": "python3"
  },
  "language_info": {
   "codemirror_mode": {
    "name": "ipython",
    "version": 3
   },
   "file_extension": ".py",
   "mimetype": "text/x-python",
   "name": "python",
   "nbconvert_exporter": "python",
   "pygments_lexer": "ipython3",
   "version": "3.8.5"
  },
  "orig_nbformat": 4
 },
 "nbformat": 4,
 "nbformat_minor": 2
}
